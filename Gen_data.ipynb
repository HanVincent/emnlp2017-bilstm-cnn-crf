{
 "cells": [
  {
   "cell_type": "code",
   "execution_count": 1,
   "metadata": {},
   "outputs": [
    {
     "name": "stdout",
     "output_type": "stream",
     "text": [
      "14492\n"
     ]
    }
   ],
   "source": [
    "with open('../Opinion_Mining/dataset/dse.txt', 'r', encoding='utf8') as fs:\n",
    "    entries = fs.read().strip().split('\\n\\n')\n",
    "\n",
    "print(len(entries))"
   ]
  },
  {
   "cell_type": "code",
   "execution_count": 2,
   "metadata": {},
   "outputs": [],
   "source": [
    "split_1 = int(0.8 * len(entries))\n",
    "split_2 = int(0.9 * len(entries))\n",
    "\n",
    "train = entries[:split_1]\n",
    "dev = entries[split_1:split_2]\n",
    "test = entries[split_2:]"
   ]
  },
  {
   "cell_type": "code",
   "execution_count": 3,
   "metadata": {},
   "outputs": [],
   "source": [
    "def formating(entries, ws):\n",
    "    for entry in entries:\n",
    "        for line in entry.split('\\n'):\n",
    "            line = line.replace(' ', '').split('\\t')\n",
    "            \n",
    "            if len(line) > 3: print(entry)\n",
    "                \n",
    "            token, pos, tag = line\n",
    "            if tag != 'O': tag += '-DSE'\n",
    "\n",
    "            print(token, pos, tag, sep='\\t', file=ws)\n",
    "        print(file=ws)"
   ]
  },
  {
   "cell_type": "code",
   "execution_count": 4,
   "metadata": {},
   "outputs": [],
   "source": [
    "with open('./data/dse/train.txt', 'w', encoding='utf8') as ws:\n",
    "    formating(train, ws)"
   ]
  },
  {
   "cell_type": "code",
   "execution_count": 5,
   "metadata": {},
   "outputs": [],
   "source": [
    "with open('./data/dse/test.txt', 'w', encoding='utf8') as ws:\n",
    "    formating(test, ws)"
   ]
  },
  {
   "cell_type": "code",
   "execution_count": 6,
   "metadata": {},
   "outputs": [],
   "source": [
    "with open('./data/dse/dev.txt', 'w', encoding='utf8') as ws:\n",
    "    formating(dev, ws)"
   ]
  },
  {
   "cell_type": "code",
   "execution_count": null,
   "metadata": {},
   "outputs": [],
   "source": []
  },
  {
   "cell_type": "code",
   "execution_count": 8,
   "metadata": {},
   "outputs": [],
   "source": [
    "### Get Word Embeddings\n",
    "import pickle\n",
    "\n",
    "with open('../Opinion_Mining/dataset/word2vec.pickle', 'rb') as handle:\n",
    "    word_vectors, embedding_weights, word_to_ix, ix_to_word = pickle.load(handle)"
   ]
  },
  {
   "cell_type": "code",
   "execution_count": 48,
   "metadata": {},
   "outputs": [
    {
     "data": {
      "text/plain": [
       "'<UNK>'"
      ]
     },
     "execution_count": 48,
     "metadata": {},
     "output_type": "execute_result"
    }
   ],
   "source": [
    "list(word_vectors.keys())[-1]"
   ]
  },
  {
   "cell_type": "code",
   "execution_count": 49,
   "metadata": {},
   "outputs": [],
   "source": [
    "with open('../word2vec.txt', 'w', encoding='utf8') as ws:\n",
    "    for key, vec in word_vectors.items():\n",
    "        if key == '<UNK>': continue\n",
    "            \n",
    "        print(key, ' '.join(vec.astype(str)), file=ws, sep=' ')"
   ]
  },
  {
   "cell_type": "code",
   "execution_count": null,
   "metadata": {},
   "outputs": [],
   "source": []
  }
 ],
 "metadata": {
  "kernelspec": {
   "display_name": "Python 3",
   "language": "python",
   "name": "python3"
  },
  "language_info": {
   "codemirror_mode": {
    "name": "ipython",
    "version": 3
   },
   "file_extension": ".py",
   "mimetype": "text/x-python",
   "name": "python",
   "nbconvert_exporter": "python",
   "pygments_lexer": "ipython3",
   "version": "3.6.6"
  }
 },
 "nbformat": 4,
 "nbformat_minor": 2
}
